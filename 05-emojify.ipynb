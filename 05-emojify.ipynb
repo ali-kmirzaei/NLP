{
  "nbformat": 4,
  "nbformat_minor": 0,
  "metadata": {
    "colab": {
      "name": "Untitled17.ipynb",
      "provenance": [],
      "authorship_tag": "ABX9TyO1nB8lQt13Ui+zN2Sqrx+T",
      "include_colab_link": true
    },
    "kernelspec": {
      "name": "python3",
      "display_name": "Python 3"
    },
    "language_info": {
      "name": "python"
    }
  },
  "cells": [
    {
      "cell_type": "markdown",
      "metadata": {
        "id": "view-in-github",
        "colab_type": "text"
      },
      "source": [
        "<a href=\"https://colab.research.google.com/github/ali-kmirzaei/NLP/blob/main/05-emojify.ipynb\" target=\"_parent\"><img src=\"https://colab.research.google.com/assets/colab-badge.svg\" alt=\"Open In Colab\"/></a>"
      ]
    },
    {
      "cell_type": "markdown",
      "source": [
        "# libs"
      ],
      "metadata": {
        "id": "xstRE6_my12N"
      }
    },
    {
      "cell_type": "code",
      "source": [
        "!pip install emoji"
      ],
      "metadata": {
        "id": "PUrgVNraviHz"
      },
      "execution_count": null,
      "outputs": []
    },
    {
      "cell_type": "code",
      "execution_count": 39,
      "metadata": {
        "id": "hcBU4gdztl3y"
      },
      "outputs": [],
      "source": [
        "import numpy as np\n",
        "import pandas as pd\n",
        "import matplotlib.pyplot as plt\n",
        "import keras\n",
        "import csv\n",
        "import emoji\n",
        "\n",
        "%matplotlib inline"
      ]
    },
    {
      "cell_type": "code",
      "source": [
        "from keras.models import Model\n",
        "from keras.layers import Dense, Input, Dropout, LSTM, Activation\n",
        "from keras.layers.embeddings import Embedding\n",
        "from keras.preprocessing import sequence\n",
        "from keras.initializers import glorot_uniform\n",
        "from keras.layers import Embedding"
      ],
      "metadata": {
        "id": "79E5F3WcbZdb"
      },
      "execution_count": 44,
      "outputs": []
    },
    {
      "cell_type": "markdown",
      "source": [
        "# read data"
      ],
      "metadata": {
        "id": "TP4XNE2oy525"
      }
    },
    {
      "cell_type": "code",
      "source": [
        "!unzip emoji.zip"
      ],
      "metadata": {
        "id": "YLpB3p0NtyA6"
      },
      "execution_count": null,
      "outputs": []
    },
    {
      "cell_type": "code",
      "source": [
        "def read_csv(filename):\n",
        "  phrase = []\n",
        "  emoji = []\n",
        "  with open (filename) as csvDataFile:\n",
        "    csvReader = csv.reader(csvDataFile)\n",
        "    for row in csvReader:\n",
        "      phrase.append(row[0])\n",
        "      emoji.append(row[1])\n",
        "    X = np.asarray(phrase)\n",
        "    Y = np.asarray(emoji, dtype=int)\n",
        "    return X, Y"
      ],
      "metadata": {
        "id": "9rFF16hruT2E"
      },
      "execution_count": 4,
      "outputs": []
    },
    {
      "cell_type": "code",
      "source": [
        "X_train, Y_train = read_csv('train_emoji.csv')\n",
        "X_test, Y_test = read_csv('tesss.csv')"
      ],
      "metadata": {
        "id": "tzca7J3duKaQ"
      },
      "execution_count": 7,
      "outputs": []
    },
    {
      "cell_type": "code",
      "source": [
        "maxlen = len(max(X_train, key=len).split())\n",
        "maxlen"
      ],
      "metadata": {
        "colab": {
          "base_uri": "https://localhost:8080/"
        },
        "id": "wkJTw7imvFko",
        "outputId": "91e89bcd-121a-44d7-8d26-07bcf35a55f9"
      },
      "execution_count": 8,
      "outputs": [
        {
          "output_type": "execute_result",
          "data": {
            "text/plain": [
              "10"
            ]
          },
          "metadata": {},
          "execution_count": 8
        }
      ]
    },
    {
      "cell_type": "markdown",
      "source": [
        "# label to emoji"
      ],
      "metadata": {
        "id": "cv6tkN46zDNS"
      }
    },
    {
      "cell_type": "code",
      "source": [
        "emoji_dict = {\n",
        "    \"0\" : \":red_heart:\",\n",
        "    \"1\" : \":baseball:\",\n",
        "    \"2\" : \"\\U0001F604\",\n",
        "    \"3\" : \"\\U0001F61E\",\n",
        "    \"4\" : \":fork_and_knife:\"\n",
        "}\n",
        "\n",
        "def label_to_emoji(label):\n",
        "  return emoji.emojize( emoji_dict[ str(label) ] )"
      ],
      "metadata": {
        "id": "gyZwSP7TvP6g"
      },
      "execution_count": 9,
      "outputs": []
    },
    {
      "cell_type": "code",
      "source": [
        "# Test\n",
        "for i in range(10):\n",
        "  print(X_train[i], label_to_emoji(Y_train[i]))"
      ],
      "metadata": {
        "id": "BdoGGZoFwVen"
      },
      "execution_count": null,
      "outputs": []
    },
    {
      "cell_type": "markdown",
      "source": [
        "# read glove file as pretrained embeddings"
      ],
      "metadata": {
        "id": "Qowzr2ZlzPOc"
      }
    },
    {
      "cell_type": "code",
      "source": [
        "def read_glove_vecs(glove_file):\n",
        "  with open(glove_file, encoding=\"utf8\") as f:\n",
        "    words = set()\n",
        "    word_to_vec_map = {}\n",
        "    for line in f:\n",
        "      line = line.strip().split()\n",
        "      curr_word = line[0]\n",
        "      words.add(curr_word)\n",
        "      \n",
        "      if '-1.377.0693' in line:\n",
        "        c = 0\n",
        "        for t in line:\n",
        "          if t == '-1.377.0693':\n",
        "            line[c] = '-1.377'\n",
        "          c += 1\n",
        "      word_to_vec_map[curr_word] = np.array(line[1:], dtype=np.float)\n",
        "\n",
        "    i = 1\n",
        "    words_to_index = {}\n",
        "    index_to_words = {}\n",
        "    for w in sorted(words):\n",
        "      words_to_index[w] = i\n",
        "      index_to_words[i] = w\n",
        "      i += 1\n",
        "    return words_to_index, index_to_words, word_to_vec_map"
      ],
      "metadata": {
        "id": "loJFG_1Pwd8a"
      },
      "execution_count": 11,
      "outputs": []
    },
    {
      "cell_type": "code",
      "source": [
        "word_to_index, index_to_word, word_to_vec_map = read_glove_vecs('glove.6B.50d.txt')"
      ],
      "metadata": {
        "id": "bQ7WBYcn0c5H"
      },
      "execution_count": null,
      "outputs": []
    },
    {
      "cell_type": "code",
      "source": [
        "# Test\n",
        "word = \"ali\"\n",
        "index = 113317\n",
        "word_to_index[word], index_to_word[index], word_to_vec_map[word]"
      ],
      "metadata": {
        "id": "bK1c7AOT7WkW"
      },
      "execution_count": null,
      "outputs": []
    },
    {
      "cell_type": "markdown",
      "source": [
        "# Sentence Embedding"
      ],
      "metadata": {
        "id": "6nBWhQlkHhde"
      }
    },
    {
      "cell_type": "code",
      "source": [
        "def sentence_embedding(sentence, word_to_vec_map):\n",
        "  words = sentence.lower().split()\n",
        "  avg = np.zeros((50,))\n",
        "  for w in words:\n",
        "    avg += word_to_vec_map[w]\n",
        "  avg /= len(words)\n",
        "  return avg"
      ],
      "metadata": {
        "id": "42AKzWWg-VLJ"
      },
      "execution_count": 14,
      "outputs": []
    },
    {
      "cell_type": "code",
      "source": [
        "# Test\n",
        "sentence_embedding(\"Ali go to home\", word_to_vec_map)"
      ],
      "metadata": {
        "id": "Ykti3-MTIIj7"
      },
      "execution_count": null,
      "outputs": []
    },
    {
      "cell_type": "markdown",
      "source": [
        "# Model v1"
      ],
      "metadata": {
        "id": "TtUgeBGzIzY2"
      }
    },
    {
      "cell_type": "code",
      "source": [
        "def softmax(x):\n",
        "  e_x = np.exp(x-np.max(x))\n",
        "  return e_x/e_x.sum()\n",
        "\n",
        "def predict(X, Y, W, b, word_to_vec_map):\n",
        "  m = X.shape[0]\n",
        "  pred = np.zeros((m, 1))\n",
        "  for j in range(m):\n",
        "    sentence = X[j]\n",
        "    avg = sentence_embedding(sentence, word_to_vec_map)\n",
        "    Z = np.dot(W, avg) + b\n",
        "    A = softmax(Z)\n",
        "    pred[j] = np.argmax(A)\n",
        "  print(\"ACC: \"+str(np.mean((pred[:] == Y.reshape(Y.shape[0], 1)[:]))))\n",
        "  return pred\n",
        "\n",
        "def model(X, Y, word_to_vec_map, learning_rate=0.01, num_iterations=401):\n",
        "  np.random.seed(1)\n",
        "  m = Y.shape[0] #num of training samples\n",
        "  n_y = 5 #num of calsses\n",
        "  n_h = 50 #dim of glove vectors\n",
        "  W = np.random.randn(n_y, n_h) / np.sqrt(n_h)\n",
        "  b = np.zeros((n_y,))\n",
        "  Y_oh = keras.utils.np_utils.to_categorical(Y, n_y)\n",
        "  for t in range(num_iterations):\n",
        "    for i in range(m):\n",
        "      avg = sentence_embedding(X[i], word_to_vec_map)\n",
        "      z = np.dot(W, avg) + b\n",
        "      a = softmax(z)\n",
        "      cost = -np.sum(Y_oh[i] * np.log(a))\n",
        "      dz = a - Y_oh[i]\n",
        "      dW = np.dot(dz.reshape(n_y, 1), avg.reshape(1, n_h))\n",
        "      db = dz\n",
        "      W = W - learning_rate * dW\n",
        "      b = b - learning_rate * db\n",
        "      if t % 100 == 0:\n",
        "        print(\"Epoch: \"+str(t)+\" --- cost= \"+str(cost))\n",
        "        pred = predict(X, Y, W, b, word_to_vec_map)\n",
        "  return pred, W, b"
      ],
      "metadata": {
        "id": "0Q71atpNITmv"
      },
      "execution_count": 26,
      "outputs": []
    },
    {
      "cell_type": "code",
      "source": [
        "pred, W, b = model(X_train, Y_train, word_to_vec_map)"
      ],
      "metadata": {
        "id": "P5wuV5zqNhBp"
      },
      "execution_count": null,
      "outputs": []
    },
    {
      "cell_type": "markdown",
      "source": [
        "# Evaluate on test set"
      ],
      "metadata": {
        "id": "9ICiiCxMOw6V"
      }
    },
    {
      "cell_type": "code",
      "source": [
        "predict(X_train, Y_train, W, b, word_to_vec_map)\n",
        "predict(X_test, Y_test, W, b, word_to_vec_map)"
      ],
      "metadata": {
        "id": "ubg2WonkNrCc"
      },
      "execution_count": null,
      "outputs": []
    },
    {
      "cell_type": "code",
      "source": [
        "def print_pred(X, pred):\n",
        "  print()\n",
        "  for i in range(X.shape[0]):\n",
        "    print(X[i], label_to_emoji(int(pred[i])))"
      ],
      "metadata": {
        "id": "u4lZVDozOtaD"
      },
      "execution_count": 36,
      "outputs": []
    },
    {
      "cell_type": "code",
      "source": [
        "X_my_sentence = np.array([\"i adore you\", \"i love you\", \"funny lol\", \"lets play with a ball\"])\n",
        "Y_my_labels = np.array([[0], [0], [2], [1], [4], [3]])\n",
        "pred = predict(X_my_sentence, Y_my_labels, W, b, word_to_vec_map)\n",
        "print_pred(X_my_sentence, pred)"
      ],
      "metadata": {
        "id": "C81z87imQRdF",
        "outputId": "ef8278fb-84f0-4116-b756-867d94fff123",
        "colab": {
          "base_uri": "https://localhost:8080/"
        }
      },
      "execution_count": 38,
      "outputs": [
        {
          "output_type": "stream",
          "name": "stdout",
          "text": [
            "ACC: 0.0\n",
            "\n",
            "i adore you ❤️\n",
            "i love you ❤️\n",
            "funny lol 😄\n",
            "lets play with a ball ⚾\n"
          ]
        },
        {
          "output_type": "stream",
          "name": "stderr",
          "text": [
            "/usr/local/lib/python3.7/dist-packages/ipykernel_launcher.py:14: DeprecationWarning: elementwise comparison failed; this will raise an error in the future.\n",
            "  \n"
          ]
        }
      ]
    }
  ]
}