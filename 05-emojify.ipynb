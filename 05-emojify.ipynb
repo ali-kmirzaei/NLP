{
  "nbformat": 4,
  "nbformat_minor": 0,
  "metadata": {
    "colab": {
      "name": "Untitled17.ipynb",
      "provenance": [],
      "authorship_tag": "ABX9TyMHP0gx90BKTUaSGjMF99t5",
      "include_colab_link": true
    },
    "kernelspec": {
      "name": "python3",
      "display_name": "Python 3"
    },
    "language_info": {
      "name": "python"
    }
  },
  "cells": [
    {
      "cell_type": "markdown",
      "metadata": {
        "id": "view-in-github",
        "colab_type": "text"
      },
      "source": [
        "<a href=\"https://colab.research.google.com/github/ali-kmirzaei/NLP/blob/main/05-emojify.ipynb\" target=\"_parent\"><img src=\"https://colab.research.google.com/assets/colab-badge.svg\" alt=\"Open In Colab\"/></a>"
      ]
    },
    {
      "cell_type": "markdown",
      "source": [
        "# libs"
      ],
      "metadata": {
        "id": "xstRE6_my12N"
      }
    },
    {
      "cell_type": "code",
      "source": [
        "!pip install emoji"
      ],
      "metadata": {
        "id": "PUrgVNraviHz"
      },
      "execution_count": null,
      "outputs": []
    },
    {
      "cell_type": "code",
      "execution_count": 2,
      "metadata": {
        "id": "hcBU4gdztl3y"
      },
      "outputs": [],
      "source": [
        "import numpy as np\n",
        "import matplotlib.pyplot as plt\n",
        "import keras\n",
        "\n",
        "import csv\n",
        "import emoji\n",
        "\n",
        "%matplotlib inline"
      ]
    },
    {
      "cell_type": "markdown",
      "source": [
        "# read data"
      ],
      "metadata": {
        "id": "TP4XNE2oy525"
      }
    },
    {
      "cell_type": "code",
      "source": [
        "!unzip emoji.zip"
      ],
      "metadata": {
        "id": "YLpB3p0NtyA6"
      },
      "execution_count": null,
      "outputs": []
    },
    {
      "cell_type": "code",
      "source": [
        "def read_csv(filename):\n",
        "  phrase = []\n",
        "  emoji = []\n",
        "  with open (filename) as csvDataFile:\n",
        "    csvReader = csv.reader(csvDataFile)\n",
        "    for row in csvReader:\n",
        "      phrase.append(row[0])\n",
        "      emoji.append(row[1])\n",
        "    X = np.asarray(phrase)\n",
        "    Y = np.asarray(emoji, dtype=int)\n",
        "    return X, Y"
      ],
      "metadata": {
        "id": "9rFF16hruT2E"
      },
      "execution_count": 4,
      "outputs": []
    },
    {
      "cell_type": "code",
      "source": [
        "X_train, Y_train = read_csv('train_emoji.csv')\n",
        "X_test, Y_test = read_csv('tesss.csv')"
      ],
      "metadata": {
        "id": "tzca7J3duKaQ"
      },
      "execution_count": 7,
      "outputs": []
    },
    {
      "cell_type": "code",
      "source": [
        "maxlen = len(max(X_train, key=len).split())\n",
        "maxlen"
      ],
      "metadata": {
        "colab": {
          "base_uri": "https://localhost:8080/"
        },
        "id": "wkJTw7imvFko",
        "outputId": "91e89bcd-121a-44d7-8d26-07bcf35a55f9"
      },
      "execution_count": 8,
      "outputs": [
        {
          "output_type": "execute_result",
          "data": {
            "text/plain": [
              "10"
            ]
          },
          "metadata": {},
          "execution_count": 8
        }
      ]
    },
    {
      "cell_type": "markdown",
      "source": [
        "# label to emoji"
      ],
      "metadata": {
        "id": "cv6tkN46zDNS"
      }
    },
    {
      "cell_type": "code",
      "source": [
        "emoji_dict = {\n",
        "    \"0\" : \":red_heart:\",\n",
        "    \"1\" : \":baseball:\",\n",
        "    \"2\" : \"\\U0001F604\",\n",
        "    \"3\" : \"\\U0001F61E\",\n",
        "    \"4\" : \":fork_and_knife:\"\n",
        "}\n",
        "\n",
        "def label_to_emoji(label):\n",
        "  return emoji.emojize( emoji_dict[ str(label) ] )"
      ],
      "metadata": {
        "id": "gyZwSP7TvP6g"
      },
      "execution_count": 9,
      "outputs": []
    },
    {
      "cell_type": "code",
      "source": [
        "# Test\n",
        "for i in range(10):\n",
        "  print(X_train[i], label_to_emoji(Y_train[i]))"
      ],
      "metadata": {
        "id": "BdoGGZoFwVen"
      },
      "execution_count": null,
      "outputs": []
    },
    {
      "cell_type": "markdown",
      "source": [
        "# read glove file as pretrained embeddings"
      ],
      "metadata": {
        "id": "Qowzr2ZlzPOc"
      }
    },
    {
      "cell_type": "code",
      "source": [
        "def read_glove_vecs(glove_file):\n",
        "  with open(glove_file, encoding=\"utf8\") as f:\n",
        "    words = set()\n",
        "    word_to_vec_map = {}\n",
        "    for line in f:\n",
        "      line = line.strip().split()\n",
        "      curr_word = line[0]\n",
        "      words.add(curr_word)\n",
        "      \n",
        "      if '-1.377.0693' in line:\n",
        "        c = 0\n",
        "        for t in line:\n",
        "          if t == '-1.377.0693':\n",
        "            line[c] = '-1.377'\n",
        "          c += 1\n",
        "      word_to_vec_map[curr_word] = np.array(line[1:], dtype=np.float)\n",
        "\n",
        "    i = 1\n",
        "    words_to_index = {}\n",
        "    index_to_words = {}\n",
        "    for w in sorted(words):\n",
        "      words_to_index[w] = i\n",
        "      index_to_words[i] = w\n",
        "      i += 1\n",
        "    return words_to_index, index_to_words, word_to_vec_map"
      ],
      "metadata": {
        "id": "loJFG_1Pwd8a"
      },
      "execution_count": 11,
      "outputs": []
    },
    {
      "cell_type": "code",
      "source": [
        "word_to_index, index_to_word, word_to_vec_map = read_glove_vecs('glove.6B.50d.txt')"
      ],
      "metadata": {
        "id": "bQ7WBYcn0c5H"
      },
      "execution_count": null,
      "outputs": []
    },
    {
      "cell_type": "code",
      "source": [
        "# Test\n",
        "word = \"ali\"\n",
        "index = 113317\n",
        "word_to_index[word], index_to_word[index], word_to_vec_map[word]"
      ],
      "metadata": {
        "id": "bK1c7AOT7WkW"
      },
      "execution_count": null,
      "outputs": []
    },
    {
      "cell_type": "markdown",
      "source": [
        "# Sentence Embedding"
      ],
      "metadata": {
        "id": "6nBWhQlkHhde"
      }
    },
    {
      "cell_type": "code",
      "source": [
        "def sentence_embedding(sentence, word_to_vec_map):\n",
        "  words = sentence.lower().split()\n",
        "  avg = np.zeros((50,))\n",
        "  for w in words:\n",
        "    avg += word_to_vec_map[w]\n",
        "  avg /= len(words)\n",
        "  return avg"
      ],
      "metadata": {
        "id": "42AKzWWg-VLJ"
      },
      "execution_count": 14,
      "outputs": []
    },
    {
      "cell_type": "code",
      "source": [
        "# Test\n",
        "sentence_embedding(\"Ali go to home\", word_to_vec_map)"
      ],
      "metadata": {
        "id": "Ykti3-MTIIj7"
      },
      "execution_count": null,
      "outputs": []
    },
    {
      "cell_type": "markdown",
      "source": [
        "# Model"
      ],
      "metadata": {
        "id": "TtUgeBGzIzY2"
      }
    },
    {
      "cell_type": "code",
      "source": [],
      "metadata": {
        "id": "0Q71atpNITmv"
      },
      "execution_count": null,
      "outputs": []
    }
  ]
}