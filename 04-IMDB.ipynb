{
  "nbformat": 4,
  "nbformat_minor": 0,
  "metadata": {
    "colab": {
      "name": "Untitled14.ipynb",
      "provenance": [],
      "collapsed_sections": [],
      "authorship_tag": "ABX9TyMwVPBOYoOG7he8JvSta8XS",
      "include_colab_link": true
    },
    "kernelspec": {
      "name": "python3",
      "display_name": "Python 3"
    },
    "language_info": {
      "name": "python"
    }
  },
  "cells": [
    {
      "cell_type": "markdown",
      "metadata": {
        "id": "view-in-github",
        "colab_type": "text"
      },
      "source": [
        "<a href=\"https://colab.research.google.com/github/ali-kmirzaei/NLP/blob/main/04-IMDB.ipynb\" target=\"_parent\"><img src=\"https://colab.research.google.com/assets/colab-badge.svg\" alt=\"Open In Colab\"/></a>"
      ]
    },
    {
      "cell_type": "code",
      "execution_count": 2,
      "metadata": {
        "id": "X3GcxMo2R3W3"
      },
      "outputs": [],
      "source": [
        "import tensorflow as tf\n",
        "from tensorflow import keras\n",
        "import numpy as np"
      ]
    },
    {
      "cell_type": "code",
      "source": [
        "imdb = keras.datasets.imdb\n",
        "(train_data, train_labels), (test_data, test_labels) = imdb.load_data(num_words = 10000)"
      ],
      "metadata": {
        "colab": {
          "base_uri": "https://localhost:8080/"
        },
        "id": "Albwk4VpSGWb",
        "outputId": "cf3ae347-0bcc-406a-de3b-27a0f098f06f"
      },
      "execution_count": 3,
      "outputs": [
        {
          "output_type": "stream",
          "name": "stdout",
          "text": [
            "Downloading data from https://storage.googleapis.com/tensorflow/tf-keras-datasets/imdb.npz\n",
            "17465344/17464789 [==============================] - 0s 0us/step\n",
            "17473536/17464789 [==============================] - 0s 0us/step\n"
          ]
        }
      ]
    },
    {
      "cell_type": "code",
      "source": [
        "train_data.shape, test_data.shape"
      ],
      "metadata": {
        "colab": {
          "base_uri": "https://localhost:8080/"
        },
        "id": "Posde1l-SXAp",
        "outputId": "8c53c1c5-5995-4dd2-fd7a-7f1db438e2c3"
      },
      "execution_count": 4,
      "outputs": [
        {
          "output_type": "execute_result",
          "data": {
            "text/plain": [
              "((25000,), (25000,))"
            ]
          },
          "metadata": {},
          "execution_count": 4
        }
      ]
    },
    {
      "cell_type": "code",
      "source": [
        "word_index = imdb.get_word_index()\n",
        "\n",
        "word_index = { k:(v+3) for k,v in word_index.items() }\n",
        "word_index[\"<PAD>\"] = 0\n",
        "word_index[\"<START>\"] = 1\n",
        "word_index[\"<UNK>\"] = 2\n",
        "word_index[\"<UNUSED>\"] = 3\n",
        "\n",
        "reverse_word_index = dict([ (value, key) for (key, value) in word_index.items() ])\n",
        "\n",
        "def decode_review(text):\n",
        "  return ' '.join([reverse_word_index.get(i, '?') for i in text])"
      ],
      "metadata": {
        "colab": {
          "base_uri": "https://localhost:8080/"
        },
        "id": "xwKYDB1OS2WI",
        "outputId": "709f5364-1746-4c9c-c80b-2c797afcec34"
      },
      "execution_count": 5,
      "outputs": [
        {
          "output_type": "stream",
          "name": "stdout",
          "text": [
            "Downloading data from https://storage.googleapis.com/tensorflow/tf-keras-datasets/imdb_word_index.json\n",
            "1646592/1641221 [==============================] - 0s 0us/step\n",
            "1654784/1641221 [==============================] - 0s 0us/step\n"
          ]
        }
      ]
    },
    {
      "cell_type": "code",
      "source": [
        "decode_review(train_data[0])"
      ],
      "metadata": {
        "colab": {
          "base_uri": "https://localhost:8080/",
          "height": 177
        },
        "id": "w_g16YHdTGtU",
        "outputId": "18376737-b8f7-42d5-cf92-eaef7ee424f5"
      },
      "execution_count": 6,
      "outputs": [
        {
          "output_type": "execute_result",
          "data": {
            "text/plain": [
              "\"<START> this film was just brilliant casting location scenery story direction everyone's really suited the part they played and you could just imagine being there robert <UNK> is an amazing actor and now the same being director <UNK> father came from the same scottish island as myself so i loved the fact there was a real connection with this film the witty remarks throughout the film were great it was just brilliant so much that i bought the film as soon as it was released for <UNK> and would recommend it to everyone to watch and the fly fishing was amazing really cried at the end it was so sad and you know what they say if you cry at a film it must have been good and this definitely was also <UNK> to the two little boy's that played the <UNK> of norman and paul they were just brilliant children are often left out of the <UNK> list i think because the stars that play them all grown up are such a big profile for the whole film but these children are amazing and should be praised for what they have done don't you think the whole story was so lovely because it was true and was someone's life after all that was shared with us all\""
            ],
            "application/vnd.google.colaboratory.intrinsic+json": {
              "type": "string"
            }
          },
          "metadata": {},
          "execution_count": 6
        }
      ]
    },
    {
      "cell_type": "code",
      "source": [
        "train_data = keras.preprocessing.sequence.pad_sequences(\n",
        "    train_data,\n",
        "    value = word_index[\"<PAD>\"],\n",
        "    padding = 'post',\n",
        "    maxlen = 256\n",
        ")\n",
        "\n",
        "test_data = keras.preprocessing.sequence.pad_sequences(\n",
        "    test_data,\n",
        "    value = word_index[\"<PAD>\"],\n",
        "    padding = 'post',\n",
        "    maxlen = 256\n",
        ")"
      ],
      "metadata": {
        "id": "QNB5wXpNU54O"
      },
      "execution_count": 7,
      "outputs": []
    },
    {
      "cell_type": "code",
      "source": [
        "decode_review(train_data[0])"
      ],
      "metadata": {
        "colab": {
          "base_uri": "https://localhost:8080/",
          "height": 212
        },
        "id": "BS6a7FbIBU1C",
        "outputId": "dedc0311-9083-49fe-f315-d16bddccf772"
      },
      "execution_count": 8,
      "outputs": [
        {
          "output_type": "execute_result",
          "data": {
            "text/plain": [
              "\"<START> this film was just brilliant casting location scenery story direction everyone's really suited the part they played and you could just imagine being there robert <UNK> is an amazing actor and now the same being director <UNK> father came from the same scottish island as myself so i loved the fact there was a real connection with this film the witty remarks throughout the film were great it was just brilliant so much that i bought the film as soon as it was released for <UNK> and would recommend it to everyone to watch and the fly fishing was amazing really cried at the end it was so sad and you know what they say if you cry at a film it must have been good and this definitely was also <UNK> to the two little boy's that played the <UNK> of norman and paul they were just brilliant children are often left out of the <UNK> list i think because the stars that play them all grown up are such a big profile for the whole film but these children are amazing and should be praised for what they have done don't you think the whole story was so lovely because it was true and was someone's life after all that was shared with us all <PAD> <PAD> <PAD> <PAD> <PAD> <PAD> <PAD> <PAD> <PAD> <PAD> <PAD> <PAD> <PAD> <PAD> <PAD> <PAD> <PAD> <PAD> <PAD> <PAD> <PAD> <PAD> <PAD> <PAD> <PAD> <PAD> <PAD> <PAD> <PAD> <PAD> <PAD> <PAD> <PAD> <PAD> <PAD> <PAD> <PAD> <PAD>\""
            ],
            "application/vnd.google.colaboratory.intrinsic+json": {
              "type": "string"
            }
          },
          "metadata": {},
          "execution_count": 8
        }
      ]
    },
    {
      "cell_type": "code",
      "source": [
        "vocab_size = 10000\n",
        "\n",
        "model = keras.Sequential()\n",
        "model.add(keras.layers.Embedding(vocab_size, 16))\n",
        "model.add(keras.layers.GlobalAveragePooling1D())\n",
        "model.add(keras.layers.Dense(16, activation=tf.nn.relu))\n",
        "model.add(keras.layers.Dense(1, activation=tf.nn.sigmoid))\n",
        "\n",
        "model.summary()"
      ],
      "metadata": {
        "colab": {
          "base_uri": "https://localhost:8080/"
        },
        "id": "4pEEFX2lBhKi",
        "outputId": "176c0894-a152-4c02-f999-d733ffe9eeed"
      },
      "execution_count": 9,
      "outputs": [
        {
          "output_type": "stream",
          "name": "stdout",
          "text": [
            "Model: \"sequential\"\n",
            "_________________________________________________________________\n",
            " Layer (type)                Output Shape              Param #   \n",
            "=================================================================\n",
            " embedding (Embedding)       (None, None, 16)          160000    \n",
            "                                                                 \n",
            " global_average_pooling1d (G  (None, 16)               0         \n",
            " lobalAveragePooling1D)                                          \n",
            "                                                                 \n",
            " dense (Dense)               (None, 16)                272       \n",
            "                                                                 \n",
            " dense_1 (Dense)             (None, 1)                 17        \n",
            "                                                                 \n",
            "=================================================================\n",
            "Total params: 160,289\n",
            "Trainable params: 160,289\n",
            "Non-trainable params: 0\n",
            "_________________________________________________________________\n"
          ]
        }
      ]
    },
    {
      "cell_type": "code",
      "source": [
        "model.compile(optimizer = tf.keras.optimizers.Adam(),\n",
        "              loss = 'binary_crossentropy',\n",
        "              metrics = ['accuracy'])"
      ],
      "metadata": {
        "id": "Vfnalp-ACrQm"
      },
      "execution_count": 13,
      "outputs": []
    },
    {
      "cell_type": "code",
      "source": [
        "x_val = train_data[:10000]\n",
        "partial_x_train = train_data[10000:]\n",
        "\n",
        "y_val = train_labels[:10000]\n",
        "partial_y_train = train_labels[10000:]"
      ],
      "metadata": {
        "id": "OvvhMYgUElQu"
      },
      "execution_count": 14,
      "outputs": []
    },
    {
      "cell_type": "code",
      "source": [
        "history = model.fit(partial_x_train,\n",
        "                    partial_y_train,\n",
        "                    epochs = 40,\n",
        "                    batch_size = 512,\n",
        "                    validation_data = (x_val, y_val),\n",
        "                    verbose = 1)"
      ],
      "metadata": {
        "colab": {
          "base_uri": "https://localhost:8080/"
        },
        "id": "vKk1w3srFglb",
        "outputId": "09e2b770-8661-4a3a-a1c5-3f82ac83af99"
      },
      "execution_count": 16,
      "outputs": [
        {
          "output_type": "stream",
          "name": "stdout",
          "text": [
            "Epoch 1/40\n",
            "30/30 [==============================] - 2s 30ms/step - loss: 0.6918 - accuracy: 0.5774 - val_loss: 0.6897 - val_accuracy: 0.5767\n",
            "Epoch 2/40\n",
            "30/30 [==============================] - 1s 24ms/step - loss: 0.6855 - accuracy: 0.6263 - val_loss: 0.6810 - val_accuracy: 0.7336\n",
            "Epoch 3/40\n",
            "30/30 [==============================] - 1s 22ms/step - loss: 0.6721 - accuracy: 0.7575 - val_loss: 0.6642 - val_accuracy: 0.7506\n",
            "Epoch 4/40\n",
            "30/30 [==============================] - 1s 23ms/step - loss: 0.6482 - accuracy: 0.7723 - val_loss: 0.6367 - val_accuracy: 0.7696\n",
            "Epoch 5/40\n",
            "30/30 [==============================] - 1s 23ms/step - loss: 0.6132 - accuracy: 0.7793 - val_loss: 0.6006 - val_accuracy: 0.7714\n",
            "Epoch 6/40\n",
            "30/30 [==============================] - 1s 22ms/step - loss: 0.5689 - accuracy: 0.8114 - val_loss: 0.5573 - val_accuracy: 0.8030\n",
            "Epoch 7/40\n",
            "30/30 [==============================] - 1s 22ms/step - loss: 0.5207 - accuracy: 0.8271 - val_loss: 0.5129 - val_accuracy: 0.8193\n",
            "Epoch 8/40\n",
            "30/30 [==============================] - 1s 22ms/step - loss: 0.4720 - accuracy: 0.8467 - val_loss: 0.4711 - val_accuracy: 0.8330\n",
            "Epoch 9/40\n",
            "30/30 [==============================] - 1s 22ms/step - loss: 0.4274 - accuracy: 0.8616 - val_loss: 0.4341 - val_accuracy: 0.8444\n",
            "Epoch 10/40\n",
            "30/30 [==============================] - 1s 22ms/step - loss: 0.3886 - accuracy: 0.8737 - val_loss: 0.4036 - val_accuracy: 0.8527\n",
            "Epoch 11/40\n",
            "30/30 [==============================] - 1s 22ms/step - loss: 0.3562 - accuracy: 0.8839 - val_loss: 0.3795 - val_accuracy: 0.8586\n",
            "Epoch 12/40\n",
            "30/30 [==============================] - 1s 23ms/step - loss: 0.3293 - accuracy: 0.8899 - val_loss: 0.3607 - val_accuracy: 0.8638\n",
            "Epoch 13/40\n",
            "30/30 [==============================] - 1s 22ms/step - loss: 0.3065 - accuracy: 0.8957 - val_loss: 0.3457 - val_accuracy: 0.8659\n",
            "Epoch 14/40\n",
            "30/30 [==============================] - 1s 22ms/step - loss: 0.2868 - accuracy: 0.9019 - val_loss: 0.3328 - val_accuracy: 0.8728\n",
            "Epoch 15/40\n",
            "30/30 [==============================] - 1s 22ms/step - loss: 0.2698 - accuracy: 0.9069 - val_loss: 0.3223 - val_accuracy: 0.8751\n",
            "Epoch 16/40\n",
            "30/30 [==============================] - 1s 23ms/step - loss: 0.2548 - accuracy: 0.9121 - val_loss: 0.3143 - val_accuracy: 0.8766\n",
            "Epoch 17/40\n",
            "30/30 [==============================] - 1s 22ms/step - loss: 0.2412 - accuracy: 0.9166 - val_loss: 0.3073 - val_accuracy: 0.8792\n",
            "Epoch 18/40\n",
            "30/30 [==============================] - 1s 23ms/step - loss: 0.2287 - accuracy: 0.9218 - val_loss: 0.3047 - val_accuracy: 0.8774\n",
            "Epoch 19/40\n",
            "30/30 [==============================] - 1s 23ms/step - loss: 0.2187 - accuracy: 0.9247 - val_loss: 0.2974 - val_accuracy: 0.8804\n",
            "Epoch 20/40\n",
            "30/30 [==============================] - 1s 23ms/step - loss: 0.2078 - accuracy: 0.9290 - val_loss: 0.2944 - val_accuracy: 0.8829\n",
            "Epoch 21/40\n",
            "30/30 [==============================] - 1s 23ms/step - loss: 0.1978 - accuracy: 0.9327 - val_loss: 0.2913 - val_accuracy: 0.8826\n",
            "Epoch 22/40\n",
            "30/30 [==============================] - 1s 22ms/step - loss: 0.1890 - accuracy: 0.9363 - val_loss: 0.2890 - val_accuracy: 0.8846\n",
            "Epoch 23/40\n",
            "30/30 [==============================] - 1s 22ms/step - loss: 0.1807 - accuracy: 0.9401 - val_loss: 0.2884 - val_accuracy: 0.8831\n",
            "Epoch 24/40\n",
            "30/30 [==============================] - 1s 23ms/step - loss: 0.1733 - accuracy: 0.9439 - val_loss: 0.2865 - val_accuracy: 0.8842\n",
            "Epoch 25/40\n",
            "30/30 [==============================] - 1s 23ms/step - loss: 0.1657 - accuracy: 0.9466 - val_loss: 0.2854 - val_accuracy: 0.8843\n",
            "Epoch 26/40\n",
            "30/30 [==============================] - 1s 23ms/step - loss: 0.1588 - accuracy: 0.9500 - val_loss: 0.2856 - val_accuracy: 0.8854\n",
            "Epoch 27/40\n",
            "30/30 [==============================] - 1s 22ms/step - loss: 0.1524 - accuracy: 0.9525 - val_loss: 0.2854 - val_accuracy: 0.8848\n",
            "Epoch 28/40\n",
            "30/30 [==============================] - 1s 23ms/step - loss: 0.1469 - accuracy: 0.9545 - val_loss: 0.2867 - val_accuracy: 0.8860\n",
            "Epoch 29/40\n",
            "30/30 [==============================] - 1s 22ms/step - loss: 0.1406 - accuracy: 0.9575 - val_loss: 0.2868 - val_accuracy: 0.8859\n",
            "Epoch 30/40\n",
            "30/30 [==============================] - 1s 23ms/step - loss: 0.1345 - accuracy: 0.9604 - val_loss: 0.2920 - val_accuracy: 0.8819\n",
            "Epoch 31/40\n",
            "30/30 [==============================] - 1s 23ms/step - loss: 0.1302 - accuracy: 0.9613 - val_loss: 0.2896 - val_accuracy: 0.8852\n",
            "Epoch 32/40\n",
            "30/30 [==============================] - 1s 23ms/step - loss: 0.1240 - accuracy: 0.9639 - val_loss: 0.2908 - val_accuracy: 0.8858\n",
            "Epoch 33/40\n",
            "30/30 [==============================] - 1s 22ms/step - loss: 0.1193 - accuracy: 0.9665 - val_loss: 0.2928 - val_accuracy: 0.8857\n",
            "Epoch 34/40\n",
            "30/30 [==============================] - 1s 21ms/step - loss: 0.1147 - accuracy: 0.9679 - val_loss: 0.2951 - val_accuracy: 0.8846\n",
            "Epoch 35/40\n",
            "30/30 [==============================] - 1s 22ms/step - loss: 0.1100 - accuracy: 0.9695 - val_loss: 0.2979 - val_accuracy: 0.8835\n",
            "Epoch 36/40\n",
            "30/30 [==============================] - 1s 22ms/step - loss: 0.1060 - accuracy: 0.9705 - val_loss: 0.3009 - val_accuracy: 0.8834\n",
            "Epoch 37/40\n",
            "30/30 [==============================] - 1s 23ms/step - loss: 0.1019 - accuracy: 0.9716 - val_loss: 0.3031 - val_accuracy: 0.8838\n",
            "Epoch 38/40\n",
            "30/30 [==============================] - 1s 22ms/step - loss: 0.0979 - accuracy: 0.9745 - val_loss: 0.3080 - val_accuracy: 0.8833\n",
            "Epoch 39/40\n",
            "30/30 [==============================] - 1s 22ms/step - loss: 0.0950 - accuracy: 0.9739 - val_loss: 0.3094 - val_accuracy: 0.8831\n",
            "Epoch 40/40\n",
            "30/30 [==============================] - 1s 22ms/step - loss: 0.0904 - accuracy: 0.9771 - val_loss: 0.3123 - val_accuracy: 0.8830\n"
          ]
        }
      ]
    },
    {
      "cell_type": "code",
      "source": [
        "  "
      ],
      "metadata": {
        "id": "EBXCzU9qF8CJ"
      },
      "execution_count": null,
      "outputs": []
    }
  ]
}